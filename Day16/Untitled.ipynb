{
 "cells": [
  {
   "cell_type": "code",
   "execution_count": null,
   "id": "e2c18345-f0b6-4ba3-863f-e2af765c741c",
   "metadata": {},
   "outputs": [],
   "source": []
  }
 ],
 "metadata": {
  "kernelspec": {
   "display_name": "",
   "name": ""
  },
  "language_info": {
   "name": ""
  }
 },
 "nbformat": 4,
 "nbformat_minor": 5
}
