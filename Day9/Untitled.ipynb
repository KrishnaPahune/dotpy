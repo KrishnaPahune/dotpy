{
 "cells": [
  {
   "cell_type": "code",
   "execution_count": 8,
   "id": "c2e6a338-4856-4115-a74b-ddc4971b65f2",
   "metadata": {},
   "outputs": [
    {
     "name": "stdout",
     "output_type": "stream",
     "text": [
      "C:\\Users\\krish\\OneDrive\\Desktop\\Python\\Day9\n"
     ]
    }
   ],
   "source": [
    "!cd"
   ]
  },
  {
   "cell_type": "code",
   "execution_count": 9,
   "id": "4dbef05d-42d1-4043-94c2-49af2a84a628",
   "metadata": {},
   "outputs": [
    {
     "name": "stdout",
     "output_type": "stream",
     "text": [
      "This is a shape\n",
      "The radius of the circle is 10 and its area is 314.1592653589793\n",
      "This is a shape\n",
      "The rectangle having length 5 and width 6,has an area of 30\n"
     ]
    }
   ],
   "source": [
    "%run C:\\Users\\krish\\OneDrive\\Desktop\\Python\\Day8\\task4.py"
   ]
  }
 ],
 "metadata": {
  "kernelspec": {
   "display_name": "Python 3 (ipykernel)",
   "language": "python",
   "name": "python3"
  },
  "language_info": {
   "codemirror_mode": {
    "name": "ipython",
    "version": 3
   },
   "file_extension": ".py",
   "mimetype": "text/x-python",
   "name": "python",
   "nbconvert_exporter": "python",
   "pygments_lexer": "ipython3",
   "version": "3.13.0"
  }
 },
 "nbformat": 4,
 "nbformat_minor": 5
}
