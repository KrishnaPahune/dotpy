{
 "cells": [
  {
   "cell_type": "code",
   "execution_count": null,
   "id": "60409378-b4ad-4c2b-8e3b-7c20006659b6",
   "metadata": {},
   "outputs": [],
   "source": []
  }
 ],
 "metadata": {
  "kernelspec": {
   "display_name": "",
   "name": ""
  },
  "language_info": {
   "name": ""
  }
 },
 "nbformat": 4,
 "nbformat_minor": 5
}
