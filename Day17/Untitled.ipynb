{
 "cells": [
  {
   "cell_type": "code",
   "execution_count": null,
   "id": "92eb3f22-018f-4c48-a27d-43a8be8bb8e7",
   "metadata": {},
   "outputs": [],
   "source": []
  }
 ],
 "metadata": {
  "kernelspec": {
   "display_name": "",
   "name": ""
  },
  "language_info": {
   "name": ""
  }
 },
 "nbformat": 4,
 "nbformat_minor": 5
}
