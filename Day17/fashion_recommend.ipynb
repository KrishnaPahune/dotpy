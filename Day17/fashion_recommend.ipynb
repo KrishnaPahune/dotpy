{
 "cells": [
  {
   "cell_type": "code",
   "execution_count": 3,
   "id": "45791a0b-6db1-4456-9e34-648688219111",
   "metadata": {},
   "outputs": [],
   "source": [
    "import numpy as np"
   ]
  },
  {
   "cell_type": "code",
   "execution_count": 4,
   "id": "270aa562-d248-45d8-9141-753f7d521415",
   "metadata": {},
   "outputs": [],
   "source": [
    "import difflib\n",
    "import pandas as pd"
   ]
  },
  {
   "cell_type": "code",
   "execution_count": 5,
   "id": "c2cec459-4b67-4fb2-aa8b-576e66f15060",
   "metadata": {},
   "outputs": [],
   "source": [
    "from sklearn.feature_extraction.text import TfidfVectorizer\n",
    "from sklearn.metrics.pairwise import cosine_similarity"
   ]
  },
  {
   "cell_type": "code",
   "execution_count": 7,
   "id": "9176f7ff-8201-4b9c-b103-e276f022f0bf",
   "metadata": {},
   "outputs": [
    {
     "data": {
      "text/html": [
       "<div>\n",
       "<style scoped>\n",
       "    .dataframe tbody tr th:only-of-type {\n",
       "        vertical-align: middle;\n",
       "    }\n",
       "\n",
       "    .dataframe tbody tr th {\n",
       "        vertical-align: top;\n",
       "    }\n",
       "\n",
       "    .dataframe thead th {\n",
       "        text-align: right;\n",
       "    }\n",
       "</style>\n",
       "<table border=\"1\" class=\"dataframe\">\n",
       "  <thead>\n",
       "    <tr style=\"text-align: right;\">\n",
       "      <th></th>\n",
       "      <th>User ID</th>\n",
       "      <th>Product ID</th>\n",
       "      <th>Product Name</th>\n",
       "      <th>Brand</th>\n",
       "      <th>Category</th>\n",
       "      <th>Price</th>\n",
       "      <th>Rating</th>\n",
       "      <th>Color</th>\n",
       "      <th>Size</th>\n",
       "    </tr>\n",
       "  </thead>\n",
       "  <tbody>\n",
       "    <tr>\n",
       "      <th>0</th>\n",
       "      <td>19</td>\n",
       "      <td>1</td>\n",
       "      <td>Dress</td>\n",
       "      <td>Adidas</td>\n",
       "      <td>Men's Fashion</td>\n",
       "      <td>40</td>\n",
       "      <td>1.043159</td>\n",
       "      <td>Black</td>\n",
       "      <td>XL</td>\n",
       "    </tr>\n",
       "    <tr>\n",
       "      <th>1</th>\n",
       "      <td>97</td>\n",
       "      <td>2</td>\n",
       "      <td>Shoes</td>\n",
       "      <td>H&amp;M</td>\n",
       "      <td>Women's Fashion</td>\n",
       "      <td>82</td>\n",
       "      <td>4.026416</td>\n",
       "      <td>Black</td>\n",
       "      <td>L</td>\n",
       "    </tr>\n",
       "    <tr>\n",
       "      <th>2</th>\n",
       "      <td>25</td>\n",
       "      <td>3</td>\n",
       "      <td>Dress</td>\n",
       "      <td>Adidas</td>\n",
       "      <td>Women's Fashion</td>\n",
       "      <td>44</td>\n",
       "      <td>3.337938</td>\n",
       "      <td>Yellow</td>\n",
       "      <td>XL</td>\n",
       "    </tr>\n",
       "    <tr>\n",
       "      <th>3</th>\n",
       "      <td>57</td>\n",
       "      <td>4</td>\n",
       "      <td>Shoes</td>\n",
       "      <td>Zara</td>\n",
       "      <td>Men's Fashion</td>\n",
       "      <td>23</td>\n",
       "      <td>1.049523</td>\n",
       "      <td>White</td>\n",
       "      <td>S</td>\n",
       "    </tr>\n",
       "    <tr>\n",
       "      <th>4</th>\n",
       "      <td>79</td>\n",
       "      <td>5</td>\n",
       "      <td>T-shirt</td>\n",
       "      <td>Adidas</td>\n",
       "      <td>Men's Fashion</td>\n",
       "      <td>79</td>\n",
       "      <td>4.302773</td>\n",
       "      <td>Black</td>\n",
       "      <td>M</td>\n",
       "    </tr>\n",
       "  </tbody>\n",
       "</table>\n",
       "</div>"
      ],
      "text/plain": [
       "   User ID  Product ID Product Name   Brand         Category  Price    Rating  \\\n",
       "0       19           1        Dress  Adidas    Men's Fashion     40  1.043159   \n",
       "1       97           2        Shoes     H&M  Women's Fashion     82  4.026416   \n",
       "2       25           3        Dress  Adidas  Women's Fashion     44  3.337938   \n",
       "3       57           4        Shoes    Zara    Men's Fashion     23  1.049523   \n",
       "4       79           5      T-shirt  Adidas    Men's Fashion     79  4.302773   \n",
       "\n",
       "    Color Size  \n",
       "0   Black   XL  \n",
       "1   Black    L  \n",
       "2  Yellow   XL  \n",
       "3   White    S  \n",
       "4   Black    M  "
      ]
     },
     "execution_count": 7,
     "metadata": {},
     "output_type": "execute_result"
    }
   ],
   "source": [
    "fashion_data = pd.read_csv('fashion_products.csv')\n",
    "fashion_data.head()"
   ]
  },
  {
   "cell_type": "code",
   "execution_count": 8,
   "id": "4f997443-5e63-4f28-a52f-f030bf76263a",
   "metadata": {},
   "outputs": [
    {
     "data": {
      "text/plain": [
       "(1000, 9)"
      ]
     },
     "execution_count": 8,
     "metadata": {},
     "output_type": "execute_result"
    }
   ],
   "source": [
    "fashion_data.shape"
   ]
  },
  {
   "cell_type": "code",
   "execution_count": 9,
   "id": "6c715cbe-4008-4ee2-9ff5-4a56383fb7f0",
   "metadata": {},
   "outputs": [
    {
     "data": {
      "text/plain": [
       "Index(['User ID', 'Product ID', 'Product Name', 'Brand', 'Category', 'Price',\n",
       "       'Rating', 'Color', 'Size'],\n",
       "      dtype='object')"
      ]
     },
     "execution_count": 9,
     "metadata": {},
     "output_type": "execute_result"
    }
   ],
   "source": [
    "fashion_data.columns"
   ]
  },
  {
   "cell_type": "code",
   "execution_count": 10,
   "id": "9a2caa88-c4d1-48fb-9d3c-72cd5f8fb76b",
   "metadata": {},
   "outputs": [
    {
     "name": "stdout",
     "output_type": "stream",
     "text": [
      "['Brand', 'Category', 'Size', 'Color']\n"
     ]
    }
   ],
   "source": [
    "selected_features = ['Brand','Category','Size','Color']\n",
    "print(selected_features)"
   ]
  },
  {
   "cell_type": "code",
   "execution_count": 12,
   "id": "973927c9-9624-4cb0-9f4e-5c1969424562",
   "metadata": {},
   "outputs": [],
   "source": [
    "for feature in selected_features:\n",
    "    fashion_data[feature]=fashion_data[feature].fillna('')"
   ]
  },
  {
   "cell_type": "code",
   "execution_count": 14,
   "id": "1dcf93cc-3833-4734-b927-2efcbd8a3d68",
   "metadata": {},
   "outputs": [
    {
     "name": "stdout",
     "output_type": "stream",
     "text": [
      "0         Adidas Men's Fashion XL Black\n",
      "1           H&M Women's Fashion L Black\n",
      "2      Adidas Women's Fashion XL Yellow\n",
      "3            Zara Men's Fashion S White\n",
      "4          Adidas Men's Fashion M Black\n",
      "                     ...               \n",
      "995        Zara Women's Fashion M Black\n",
      "996          Nike Kids' Fashion L Green\n",
      "997          Zara Men's Fashion L White\n",
      "998         Zara Women's Fashion S Blue\n",
      "999      Adidas Women's Fashion L White\n",
      "Length: 1000, dtype: object\n"
     ]
    }
   ],
   "source": [
    "combined_features = fashion_data['Brand']+' '+fashion_data['Category']+' '+fashion_data['Size']+' '+fashion_data['Color']\n",
    "print(combined_features)"
   ]
  },
  {
   "cell_type": "code",
   "execution_count": 15,
   "id": "92c79d20-e091-4831-8829-a68e95308c7f",
   "metadata": {},
   "outputs": [],
   "source": [
    "vectorizer=TfidfVectorizer()"
   ]
  },
  {
   "cell_type": "code",
   "execution_count": 16,
   "id": "58dab2f3-697a-4447-99e9-18d3936ca25c",
   "metadata": {},
   "outputs": [],
   "source": [
    "feature_vectors = vectorizer.fit_transform(combined_features)"
   ]
  },
  {
   "cell_type": "code",
   "execution_count": 17,
   "id": "93226b73-f85d-4577-88e7-3ca26a8fb359",
   "metadata": {},
   "outputs": [
    {
     "name": "stdout",
     "output_type": "stream",
     "text": [
      "<Compressed Sparse Row sparse matrix of dtype 'float64'\n",
      "\twith 4060 stored elements and shape (1000, 15)>\n",
      "  Coords\tValues\n",
      "  (0, 0)\t0.5109967130316281\n",
      "  (0, 7)\t0.41636673195963975\n",
      "  (0, 3)\t0.19537621514596712\n",
      "  (0, 12)\t0.46255147672080915\n",
      "  (0, 1)\t0.5598172645843971\n",
      "  (1, 3)\t0.2703050747673901\n",
      "  (1, 1)\t0.7745131486271642\n",
      "  (1, 11)\t0.5718955753969703\n",
      "  (2, 0)\t0.5187498105295739\n",
      "  (2, 3)\t0.19834056072036338\n",
      "  (2, 12)\t0.46956953888320374\n",
      "  (2, 11)\t0.419637290181628\n",
      "  (2, 13)\t0.5431101627577031\n",
      "  (3, 7)\t0.4860097015353472\n",
      "  (3, 3)\t0.22805553066953882\n",
      "  (3, 14)\t0.5908085907715567\n",
      "  (3, 10)\t0.6022710801749368\n",
      "  (4, 0)\t0.5763603404955568\n",
      "  (4, 7)\t0.4696258611519227\n",
      "  (4, 3)\t0.22036756600290106\n",
      "  (4, 1)\t0.631425723498115\n",
      "  (5, 0)\t0.5865903504212805\n",
      "  (5, 7)\t0.47796140557336897\n",
      "  (5, 3)\t0.22427894266976003\n",
      "  (5, 13)\t0.6141364762411556\n",
      "  :\t:\n",
      "  (993, 4)\t0.7712750598860559\n",
      "  (994, 0)\t0.5793013193460831\n",
      "  (994, 3)\t0.22149202982426539\n",
      "  (994, 6)\t0.45297857822882226\n",
      "  (994, 9)\t0.6404386542003917\n",
      "  (995, 3)\t0.221415316860003\n",
      "  (995, 1)\t0.6344278751077699\n",
      "  (995, 11)\t0.46845750175545814\n",
      "  (995, 14)\t0.5736062218936082\n",
      "  (996, 3)\t0.2249528108241513\n",
      "  (996, 6)\t0.4600563031389847\n",
      "  (996, 4)\t0.6416799115949728\n",
      "  (996, 8)\t0.5709564973795043\n",
      "  (997, 7)\t0.4860097015353472\n",
      "  (997, 3)\t0.22805553066953882\n",
      "  (997, 14)\t0.5908085907715567\n",
      "  (997, 10)\t0.6022710801749368\n",
      "  (998, 3)\t0.2248450186119864\n",
      "  (998, 11)\t0.475713862956144\n",
      "  (998, 14)\t0.5824913265560874\n",
      "  (998, 2)\t0.619552171074921\n",
      "  (999, 0)\t0.5954783252284599\n",
      "  (999, 3)\t0.227677201080929\n",
      "  (999, 11)\t0.48170602800927503\n",
      "  (999, 10)\t0.6012719508430359\n"
     ]
    }
   ],
   "source": [
    "print(feature_vectors)"
   ]
  },
  {
   "cell_type": "code",
   "execution_count": 18,
   "id": "509f039b-00db-4ec1-aa27-fe068408e74c",
   "metadata": {},
   "outputs": [
    {
     "name": "stdout",
     "output_type": "stream",
     "text": [
      "[[1.         0.48639701 0.52103056 ... 0.2469149  0.04392937 0.34877018]\n",
      " [0.48639701 1.         0.29360117 ... 0.06164457 0.3328354  0.33702785]\n",
      " [0.52103056 0.29360117 1.         ... 0.04523266 0.24422316 0.5562037 ]\n",
      " ...\n",
      " [0.2469149  0.06164457 0.04523266 ... 1.         0.39541803 0.41405175]\n",
      " [0.04392937 0.3328354  0.24422316 ... 0.39541803 1.         0.28034632]\n",
      " [0.34877018 0.33702785 0.5562037  ... 0.41405175 0.28034632 1.        ]]\n"
     ]
    }
   ],
   "source": [
    "similarity = cosine_similarity(feature_vectors)\n",
    "print(similarity)"
   ]
  },
  {
   "cell_type": "code",
   "execution_count": 19,
   "id": "57beff8a-5bd0-4840-9053-75e1da3c4c74",
   "metadata": {},
   "outputs": [
    {
     "name": "stdout",
     "output_type": "stream",
     "text": [
      "(1000, 1000)\n"
     ]
    }
   ],
   "source": [
    "print(similarity.shape)"
   ]
  },
  {
   "cell_type": "code",
   "execution_count": 31,
   "id": "ad431cf0-c458-4058-9e2a-90b633480b19",
   "metadata": {},
   "outputs": [
    {
     "name": "stdin",
     "output_type": "stream",
     "text": [
      "Enter the product name:  shirt\n"
     ]
    },
    {
     "name": "stdout",
     "output_type": "stream",
     "text": [
      "products suggested for you :\n",
      "\n",
      "1 . T-shirt\n",
      "2 . T-shirt\n",
      "3 . Dress\n",
      "4 . Dress\n",
      "5 . Dress\n",
      "6 . T-shirt\n",
      "7 . T-shirt\n",
      "8 . T-shirt\n",
      "9 . Shoes\n",
      "10 . Shoes\n",
      "11 . Jeans\n",
      "12 . Dress\n",
      "13 . Jeans\n",
      "14 . Dress\n",
      "15 . Sweater\n",
      "16 . Dress\n",
      "17 . Shoes\n",
      "18 . Jeans\n",
      "19 . T-shirt\n",
      "20 . Jeans\n",
      "21 . Jeans\n",
      "22 . Shoes\n",
      "23 . Dress\n",
      "24 . Shoes\n",
      "25 . Dress\n",
      "26 . Shoes\n",
      "27 . T-shirt\n",
      "28 . T-shirt\n",
      "29 . Dress\n",
      "No product found with Product ID: 0\n"
     ]
    }
   ],
   "source": [
    "product_name = input(\"Enter the product name: \")\n",
    "list_of_all_products=fashion_data['Product Name'].tolist()\n",
    "find_close_match=difflib.get_close_matches(product_name,list_of_all_products)\n",
    "close_match=find_close_match[0]\n",
    "index_of_the_product = fashion_data[fashion_data['Product Name'] == close_match]['Product ID'].values[0]\n",
    "similarity_score = list(enumerate(similarity[index_of_the_product]))\n",
    "sorted_similar_products = sorted(similarity_score,key=lambda x:x[1],reverse=1)\n",
    "print(\"products suggested for you :\\n\")\n",
    "i=1\n",
    "for products in sorted_similar_products:\n",
    "    index = products[0]\n",
    "    product_names = fashion_data[fashion_data['Product ID'] == index]['Product Name'].values\n",
    "    if product_names.size > 0:\n",
    "        title_from_index = fashion_data[fashion_data['Product ID']==index]['Product Name'].values[0]\n",
    "        if(i<30):\n",
    "            print(i, '.',title_from_index)\n",
    "            i+=1\n",
    "    else: \n",
    "            print(f\"No product found with Product ID: {index}\")"
   ]
  },
  {
   "cell_type": "code",
   "execution_count": null,
   "id": "dae8a7ef-1dbe-40ce-aed4-f00b7a6fc008",
   "metadata": {},
   "outputs": [],
   "source": []
  }
 ],
 "metadata": {
  "kernelspec": {
   "display_name": "Python 3 (ipykernel)",
   "language": "python",
   "name": "python3"
  },
  "language_info": {
   "codemirror_mode": {
    "name": "ipython",
    "version": 3
   },
   "file_extension": ".py",
   "mimetype": "text/x-python",
   "name": "python",
   "nbconvert_exporter": "python",
   "pygments_lexer": "ipython3",
   "version": "3.13.0"
  }
 },
 "nbformat": 4,
 "nbformat_minor": 5
}
