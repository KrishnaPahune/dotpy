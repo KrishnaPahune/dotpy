{
 "cells": [
  {
   "cell_type": "code",
   "execution_count": 14,
   "id": "b69a9e2f-2dc7-4da4-8d42-dce86ce918de",
   "metadata": {},
   "outputs": [],
   "source": [
    "import pandas as pd\n",
    "import numpy as np\n",
    "from scipy import stats\n",
    "import seaborn as sns\n",
    "import matplotlib.pyplot as plt\n",
    "from sklearn.metrics import confusion_matrix, ConfusionMatrixDisplay\n"
   ]
  },
  {
   "cell_type": "code",
   "execution_count": 15,
   "id": "bf2989e4-8276-4049-b7b4-0053ee182617",
   "metadata": {},
   "outputs": [],
   "source": [
    "data = {\n",
    "    \"Sales\":[100,200,450,78,140,200,300,400,500,900],\n",
    "    \"Category\":[\"A\",\"B\",\"A\",\"B\",\"A\",\"B\",\"A\",\"B\",\"A\",\"B\"],\n",
    "    \"Prediction\":[1,0,1,0,0,0,1,0,1,1],\n",
    "    \"Actual\":[0,0,0,1,1,1,0,1,0,1]\n",
    "}\n",
    "    "
   ]
  },
  {
   "cell_type": "code",
   "execution_count": 16,
   "id": "b2a89b24-82d5-4f80-956a-4bc6f54d24bd",
   "metadata": {},
   "outputs": [
    {
     "data": {
      "text/html": [
       "<div>\n",
       "<style scoped>\n",
       "    .dataframe tbody tr th:only-of-type {\n",
       "        vertical-align: middle;\n",
       "    }\n",
       "\n",
       "    .dataframe tbody tr th {\n",
       "        vertical-align: top;\n",
       "    }\n",
       "\n",
       "    .dataframe thead th {\n",
       "        text-align: right;\n",
       "    }\n",
       "</style>\n",
       "<table border=\"1\" class=\"dataframe\">\n",
       "  <thead>\n",
       "    <tr style=\"text-align: right;\">\n",
       "      <th></th>\n",
       "      <th>Sales</th>\n",
       "      <th>Category</th>\n",
       "      <th>Prediction</th>\n",
       "      <th>Actual</th>\n",
       "    </tr>\n",
       "  </thead>\n",
       "  <tbody>\n",
       "    <tr>\n",
       "      <th>0</th>\n",
       "      <td>100</td>\n",
       "      <td>A</td>\n",
       "      <td>1</td>\n",
       "      <td>0</td>\n",
       "    </tr>\n",
       "    <tr>\n",
       "      <th>1</th>\n",
       "      <td>200</td>\n",
       "      <td>B</td>\n",
       "      <td>0</td>\n",
       "      <td>0</td>\n",
       "    </tr>\n",
       "    <tr>\n",
       "      <th>2</th>\n",
       "      <td>450</td>\n",
       "      <td>A</td>\n",
       "      <td>1</td>\n",
       "      <td>0</td>\n",
       "    </tr>\n",
       "    <tr>\n",
       "      <th>3</th>\n",
       "      <td>78</td>\n",
       "      <td>B</td>\n",
       "      <td>0</td>\n",
       "      <td>1</td>\n",
       "    </tr>\n",
       "    <tr>\n",
       "      <th>4</th>\n",
       "      <td>140</td>\n",
       "      <td>A</td>\n",
       "      <td>0</td>\n",
       "      <td>1</td>\n",
       "    </tr>\n",
       "    <tr>\n",
       "      <th>5</th>\n",
       "      <td>200</td>\n",
       "      <td>B</td>\n",
       "      <td>0</td>\n",
       "      <td>1</td>\n",
       "    </tr>\n",
       "    <tr>\n",
       "      <th>6</th>\n",
       "      <td>300</td>\n",
       "      <td>A</td>\n",
       "      <td>1</td>\n",
       "      <td>0</td>\n",
       "    </tr>\n",
       "    <tr>\n",
       "      <th>7</th>\n",
       "      <td>400</td>\n",
       "      <td>B</td>\n",
       "      <td>0</td>\n",
       "      <td>1</td>\n",
       "    </tr>\n",
       "    <tr>\n",
       "      <th>8</th>\n",
       "      <td>500</td>\n",
       "      <td>A</td>\n",
       "      <td>1</td>\n",
       "      <td>0</td>\n",
       "    </tr>\n",
       "    <tr>\n",
       "      <th>9</th>\n",
       "      <td>900</td>\n",
       "      <td>B</td>\n",
       "      <td>1</td>\n",
       "      <td>1</td>\n",
       "    </tr>\n",
       "  </tbody>\n",
       "</table>\n",
       "</div>"
      ],
      "text/plain": [
       "   Sales Category  Prediction  Actual\n",
       "0    100        A           1       0\n",
       "1    200        B           0       0\n",
       "2    450        A           1       0\n",
       "3     78        B           0       1\n",
       "4    140        A           0       1\n",
       "5    200        B           0       1\n",
       "6    300        A           1       0\n",
       "7    400        B           0       1\n",
       "8    500        A           1       0\n",
       "9    900        B           1       1"
      ]
     },
     "execution_count": 16,
     "metadata": {},
     "output_type": "execute_result"
    }
   ],
   "source": [
    "df=pd.DataFrame(data)\n",
    "df"
   ]
  },
  {
   "cell_type": "markdown",
   "id": "14d121d5-c58b-49eb-9694-6ba8ee644e9d",
   "metadata": {},
   "source": [
    "# Mean"
   ]
  },
  {
   "cell_type": "code",
   "execution_count": 17,
   "id": "d10ea98a-a849-4d0e-9a72-2880efec7f1c",
   "metadata": {},
   "outputs": [
    {
     "name": "stdout",
     "output_type": "stream",
     "text": [
      "Mean: 326.8\n"
     ]
    }
   ],
   "source": [
    "mean=df['Sales'].mean()\n",
    "print(\"Mean:\",mean)"
   ]
  },
  {
   "cell_type": "markdown",
   "id": "fbd1b715-12df-4ba8-aa6c-64983988f20a",
   "metadata": {},
   "source": [
    "# Median"
   ]
  },
  {
   "cell_type": "code",
   "execution_count": 18,
   "id": "b3666817-b588-4956-80ca-d062491daf13",
   "metadata": {},
   "outputs": [
    {
     "name": "stdout",
     "output_type": "stream",
     "text": [
      "Median: 250.0\n"
     ]
    }
   ],
   "source": [
    "median=df['Sales'].median()\n",
    "print(\"Median:\",median)"
   ]
  },
  {
   "cell_type": "markdown",
   "id": "8a18f593-87a3-4d61-808a-546f7e4284f2",
   "metadata": {},
   "source": [
    "# Mode"
   ]
  },
  {
   "cell_type": "code",
   "execution_count": 21,
   "id": "598df73f-c72a-4036-832b-f224fafa769d",
   "metadata": {},
   "outputs": [
    {
     "ename": "IndexError",
     "evalue": "invalid index to scalar variable.",
     "output_type": "error",
     "traceback": [
      "\u001b[1;31m---------------------------------------------------------------------------\u001b[0m",
      "\u001b[1;31mIndexError\u001b[0m                                Traceback (most recent call last)",
      "Cell \u001b[1;32mIn[21], line 2\u001b[0m\n\u001b[0;32m      1\u001b[0m mode_result\u001b[38;5;241m=\u001b[39mstats\u001b[38;5;241m.\u001b[39mmode(df[\u001b[38;5;124m'\u001b[39m\u001b[38;5;124mSales\u001b[39m\u001b[38;5;124m'\u001b[39m])\n\u001b[1;32m----> 2\u001b[0m \u001b[38;5;28mprint\u001b[39m(\u001b[38;5;124m\"\u001b[39m\u001b[38;5;124mMode:\u001b[39m\u001b[38;5;124m\"\u001b[39m,\u001b[43mmode_result\u001b[49m\u001b[38;5;241;43m.\u001b[39;49m\u001b[43mmode\u001b[49m\u001b[43m[\u001b[49m\u001b[38;5;241;43m0\u001b[39;49m\u001b[43m]\u001b[49m)\n\u001b[0;32m      3\u001b[0m \u001b[38;5;28mprint\u001b[39m(\u001b[38;5;124m\"\u001b[39m\u001b[38;5;124mCOunt:\u001b[39m\u001b[38;5;124m\"\u001b[39m,mode_result\u001b[38;5;241m.\u001b[39mcount[\u001b[38;5;241m0\u001b[39m])\n",
      "\u001b[1;31mIndexError\u001b[0m: invalid index to scalar variable."
     ]
    }
   ],
   "source": [
    "mode_result=stats.mode(df['Sales'])\n",
    "print(\"Mode:\",mode_result.mode[0])\n",
    "print(\"COunt:\",mode_result.count[0])"
   ]
  },
  {
   "cell_type": "markdown",
   "id": "6ff22217-0d4e-4f97-a9ab-648c06f5eb1a",
   "metadata": {},
   "source": [
    "# Variance"
   ]
  },
  {
   "cell_type": "code",
   "execution_count": 10,
   "id": "526db270-139f-4af1-a638-72b0062eec69",
   "metadata": {},
   "outputs": [
    {
     "name": "stdout",
     "output_type": "stream",
     "text": [
      "Variance: 62244.622222222235\n"
     ]
    }
   ],
   "source": [
    "variance=df['Sales'].var()\n",
    "print(\"Variance:\",variance)"
   ]
  },
  {
   "cell_type": "markdown",
   "id": "684ec5db-a755-41fc-ac36-cae7811be3c1",
   "metadata": {},
   "source": [
    "# Std Deviation"
   ]
  },
  {
   "cell_type": "code",
   "execution_count": 11,
   "id": "89503f68-f9bb-4b56-9079-4c303d77b229",
   "metadata": {},
   "outputs": [
    {
     "name": "stdout",
     "output_type": "stream",
     "text": [
      "Standard Deviation: 249.488721633308\n"
     ]
    }
   ],
   "source": [
    "std_dev=df['Sales'].std()\n",
    "print(\"Standard Deviation:\",std_dev)"
   ]
  },
  {
   "cell_type": "markdown",
   "id": "8997f7bb-645c-4f39-a65a-52b4d77cccd4",
   "metadata": {},
   "source": [
    "# Detecting outliers using IQR"
   ]
  },
  {
   "cell_type": "code",
   "execution_count": 12,
   "id": "2d96ad41-5834-47c5-a5f0-732bb3e0f6b4",
   "metadata": {},
   "outputs": [
    {
     "name": "stdout",
     "output_type": "stream",
     "text": [
      "Outliers:\n",
      "    Sales Category  Prediction  Actual\n",
      "9    900        B           1       1\n"
     ]
    }
   ],
   "source": [
    "Q1=df[\"Sales\"].quantile(0.25)\n",
    "Q3=df[\"Sales\"].quantile(0.75)\n",
    "IQR=Q3-Q1\n",
    "lower_bound=Q1-1.5*IQR\n",
    "upper_bound=Q3+1.5*IQR\n",
    "outliers=df[(df[\"Sales\"] < lower_bound) | (df[\"Sales\"] > upper_bound)]\n",
    "print(\"Outliers:\\n\",outliers)\n"
   ]
  },
  {
   "cell_type": "code",
   "execution_count": null,
   "id": "96361a9f-d4c2-460b-aa06-c6ec62c27743",
   "metadata": {},
   "outputs": [],
   "source": []
  }
 ],
 "metadata": {
  "kernelspec": {
   "display_name": "Python 3 (ipykernel)",
   "language": "python",
   "name": "python3"
  },
  "language_info": {
   "codemirror_mode": {
    "name": "ipython",
    "version": 3
   },
   "file_extension": ".py",
   "mimetype": "text/x-python",
   "name": "python",
   "nbconvert_exporter": "python",
   "pygments_lexer": "ipython3",
   "version": "3.13.0"
  }
 },
 "nbformat": 4,
 "nbformat_minor": 5
}
