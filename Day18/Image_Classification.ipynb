{
 "cells": [
  {
   "cell_type": "markdown",
   "id": "30f52a92-0633-4d20-b19f-53aef70e2319",
   "metadata": {},
   "source": [
    "<h2 style='color:blue' align='center'>Small Image Classification Using CNN</h2>"
   ]
  },
  {
   "cell_type": "markdown",
   "id": "edea0e71-f0c8-4b7a-b719-af065c74969e",
   "metadata": {},
   "source": [
    "In this notebook we will classify small images cifar10 dataset from tensorflow keras datasets.\n",
    "There are total 10 classes as shown below. We will use CNN for classification\n",
    "                                                        "
   ]
  },
  {
   "cell_type": "markdown",
   "id": "59d1a064-a8a4-4d77-8d0a-821a66fedd81",
   "metadata": {},
   "source": [
    "<img src=\"small_images.jpg\">"
   ]
  },
  {
   "cell_type": "code",
   "execution_count": 1,
   "id": "28997bda-45cb-45d6-b975-21d08ecfc4d3",
   "metadata": {},
   "outputs": [],
   "source": [
    "import tensorflow as tf"
   ]
  },
  {
   "cell_type": "code",
   "execution_count": 2,
   "id": "737d64da-9057-4759-aef2-62de29a2f9aa",
   "metadata": {},
   "outputs": [],
   "source": [
    "from tensorflow.keras import datasets, layers, models\n",
    "import matplotlib.pyplot as plt\n",
    "import numpy as np"
   ]
  },
  {
   "cell_type": "code",
   "execution_count": 3,
   "id": "229dfba2-2ddc-4f33-9905-268e77947564",
   "metadata": {},
   "outputs": [],
   "source": [
    "df = datasets.cifar10.load_data()"
   ]
  },
  {
   "cell_type": "code",
   "execution_count": 4,
   "id": "5deefe3a-78fa-4ab8-97ab-8e07d3b2a88d",
   "metadata": {},
   "outputs": [
    {
     "name": "stdout",
     "output_type": "stream",
     "text": [
      "Training data shape: (50000, 32, 32, 3)\n",
      "Training labels shape: (50000, 1)\n",
      "Testing data shape: (10000, 32, 32, 3)\n",
      "Testing labels shape: (10000, 1)\n"
     ]
    }
   ],
   "source": [
    "from tensorflow.keras.datasets import cifar10\n",
    "\n",
    "# Load the CIFAR-10 dataset\n",
    "(x_train, y_train), (x_test, y_test) = cifar10.load_data()\n",
    "\n",
    "# Check the shapes of the data\n",
    "print(\"Training data shape:\", x_train.shape)\n",
    "print(\"Training labels shape:\", y_train.shape)\n",
    "print(\"Testing data shape:\", x_test.shape)\n",
    "print(\"Testing labels shape:\", y_test.shape)\n"
   ]
  },
  {
   "cell_type": "code",
   "execution_count": 5,
   "id": "a8bdc848-fe35-4d52-a4cf-b402d0325577",
   "metadata": {},
   "outputs": [
    {
     "data": {
      "text/plain": [
       "array([[6],\n",
       "       [9],\n",
       "       [9],\n",
       "       [4],\n",
       "       [1]], dtype=uint8)"
      ]
     },
     "execution_count": 5,
     "metadata": {},
     "output_type": "execute_result"
    }
   ],
   "source": [
    "#show first five images\n",
    "y_train[:5]"
   ]
  },
  {
   "cell_type": "markdown",
   "id": "04503bec-fe2c-4e0a-8006-686ad6611716",
   "metadata": {},
   "source": [
    "y_train is 2d array, for our classification having 1d array is good.so we convert it to 1d array"
   ]
  },
  {
   "cell_type": "code",
   "execution_count": 6,
   "id": "560a4524-d27f-4d41-9500-7e0ce96d6102",
   "metadata": {},
   "outputs": [
    {
     "data": {
      "text/plain": [
       "array([6, 9, 9, 4, 1], dtype=uint8)"
      ]
     },
     "execution_count": 6,
     "metadata": {},
     "output_type": "execute_result"
    }
   ],
   "source": [
    "y_train = y_train.reshape(-1,)\n",
    "y_train[:5]"
   ]
  },
  {
   "cell_type": "code",
   "execution_count": 7,
   "id": "cde4825c-50d6-4d4b-83cf-2630b5bf8785",
   "metadata": {},
   "outputs": [],
   "source": [
    "y_test = y_test.reshape(-1)"
   ]
  },
  {
   "cell_type": "code",
   "execution_count": 8,
   "id": "64c7da6a-cac2-497b-b06a-bf814863f04b",
   "metadata": {},
   "outputs": [],
   "source": [
    "classes = [\"airplane\",\"automobile\",\"bird\",\"cat\",\"deer\",\"dog\",\"frog\",\"horse\",\"ship\",\"truck\"]"
   ]
  },
  {
   "cell_type": "markdown",
   "id": "a669f388-a768-4195-943b-a4ec3e22be09",
   "metadata": {},
   "source": [
    "Lets plot some images to see what thy are"
   ]
  },
  {
   "cell_type": "code",
   "execution_count": 9,
   "id": "7652f79f-aa79-485c-8386-ea4edf29ed6a",
   "metadata": {},
   "outputs": [],
   "source": [
    "def plot_sample(x,y,index):\n",
    "    plt.figure(figsize = (15,2))\n",
    "    plt.imshow(x[index])\n",
    "    plt.xlabel(classes[y[index]])"
   ]
  },
  {
   "cell_type": "code",
   "execution_count": 10,
   "id": "b8374ef8-732c-4945-a2e7-4bcd3aa2059f",
   "metadata": {},
   "outputs": [
    {
     "data": {
      "image/png": "[encoded data removed]",
      "text/plain": [
       "<Figure size 1500x200 with 1 Axes>"
      ]
     },
     "metadata": {},
     "output_type": "display_data"
    }
   ],
   "source": [
    "plot_sample(x_train,y_train,0)"
   ]
  },
  {
   "cell_type": "code",
   "execution_count": 11,
   "id": "ebfdfacb-f9bb-45ea-b4e1-f4bdea659f22",
   "metadata": {},
   "outputs": [
    {
     "name": "stdout",
     "output_type": "stream",
     "text": [
      "Shuffling check:\n",
      "First few labels : [6 9 9 4 1 1 2 7 8 3]\n"
     ]
    }
   ],
   "source": [
    "print(\"Shuffling check:\")\n",
    "print(f\"First few labels : {y_train[:10]}\")"
   ]
  },
  {
   "cell_type": "markdown",
   "id": "5f46f8ba-de22-475a-bbae-b3d2921d5b6d",
   "metadata": {},
   "source": [
    "Normalizing the training data"
   ]
  },
  {
   "cell_type": "code",
   "execution_count": 12,
   "id": "050fb537-8389-41c7-a4e2-e125069d8d61",
   "metadata": {},
   "outputs": [],
   "source": [
    "x_train = x_train/255.0\n",
    "x_test = x_test/255.0"
   ]
  },
  {
   "cell_type": "code",
   "execution_count": 13,
   "id": "6e2dde53-f868-4a5e-bc62-4defbee5d04a",
   "metadata": {},
   "outputs": [
    {
     "name": "stdout",
     "output_type": "stream",
     "text": [
      "Min pixel value in x_train: 0.0\n",
      "Max pixel value in x_train: 1.0\n",
      "Min pixel value in x_train: 0.0\n",
      "Max pixel value in x_train: 1.0\n"
     ]
    }
   ],
   "source": [
    "print(f\"Min pixel value in x_train: {x_train.min()}\")\n",
    "print(f\"Max pixel value in x_train: {x_train.max()}\")\n",
    "print(f\"Min pixel value in x_train: {x_train.min()}\")\n",
    "print(f\"Max pixel value in x_train: {x_train.max()}\")"
   ]
  },
  {
   "cell_type": "markdown",
   "id": "a8e2793b-644a-4983-a511-f03633bba57f",
   "metadata": {},
   "source": [
    "<h3 style='color:pink'>Build simple artificial neural network for image classification</h3>\n",
    "It involves several steps involving data preprocessing,defining the model architecture, compiling the model and training it.\n",
    "Here's a basic example using TensorFlow/Keras to build an ANN for classifying CIFAR-10 images.\n",
    "1.Steps to build a simple ANN\n",
    "2.Import Libraries\n",
    "3.Load and Preprocess Data\n",
    "4.Define the Model Architecture\n",
    "5.Compile the Model\n",
    "6.Train the Model\n",
    "7.Evaluate the Model"
   ]
  },
  {
   "cell_type": "markdown",
   "id": "86bb9573-2f96-4a28-be1e-78216bd58d00",
   "metadata": {},
   "source": [
    "<strong>Flatten Layer</strong><br>\n",
    "The flatten layer is like a bridge between convolutional (or pooling) layers and dense layers in convolutional neural networks (CNNs).<br>\n",
    "What it does is reshape multi-dimensional data (like a 2D matrix) into a one-dimensional vector.<br>\n",
    "<strong>Dense Layer</strong><br>\n",
    "The dense layer, also known as a fully connected layer, is the workhorse of an ANN.<br>\n",
    "Every neuron in a dense layer is connected to every neuron in the preceding layer.<br>\n",
    "This means each neuron receives input from all the neurons of the previous layer.<br>\n",
    "<strong>ReLU (Rectified Linear Unit)</strong><br>\n",
    "ReLU is a popular activation function used in neural networks, especially in convolutional neural networks (CNNs). It stands for Rectified Linear Unit and is defined as:𝑓(𝑥)=max(0,𝑥)\n",
    "In simpler terms, the ReLU function takes a real-valued input and outputs the same value if it is positive, and zero if it is negative. This non-linearity helps the network to learn complex patterns and features in the data.<br>\n",
    "<strong>Softmax</strong><br>\n",
    "Softmax is an activation function commonly used in the output layer of a neural network when performing multiclass classification. The softmax function takes a vector of raw scores (logits) and converts them into probabilities."
   ]
  },
  {
   "cell_type": "code",
   "execution_count": 14,
   "id": "07fbf571-a1e8-4879-8a05-c5f786cb8ea1",
   "metadata": {},
   "outputs": [
    {
     "name": "stderr",
     "output_type": "stream",
     "text": [
      "C:\\Users\\krish\\OneDrive\\Desktop\\Python\\newenv\\lib\\site-packages\\keras\\src\\layers\\reshaping\\flatten.py:37: UserWarning: Do not pass an `input_shape`/`input_dim` argument to a layer. When using Sequential models, prefer using an `Input(shape)` object as the first layer in the model instead.\n",
      "  super().__init__(**kwargs)\n"
     ]
    },
    {
     "name": "stdout",
     "output_type": "stream",
     "text": [
      "Epoch 1/5\n",
      "\u001b[1m1563/1563\u001b[0m \u001b[32m━━━━━━━━━━━━━━━━━━━━\u001b[0m\u001b[37m\u001b[0m \u001b[1m50s\u001b[0m 32ms/step - accuracy: 0.3106 - loss: 1.9184\n",
      "Epoch 2/5\n",
      "\u001b[1m1563/1563\u001b[0m \u001b[32m━━━━━━━━━━━━━━━━━━━━\u001b[0m\u001b[37m\u001b[0m \u001b[1m49s\u001b[0m 31ms/step - accuracy: 0.4214 - loss: 1.6428\n",
      "Epoch 3/5\n",
      "\u001b[1m1563/1563\u001b[0m \u001b[32m━━━━━━━━━━━━━━━━━━━━\u001b[0m\u001b[37m\u001b[0m \u001b[1m50s\u001b[0m 32ms/step - accuracy: 0.4494 - loss: 1.5557\n",
      "Epoch 4/5\n",
      "\u001b[1m1563/1563\u001b[0m \u001b[32m━━━━━━━━━━━━━━━━━━━━\u001b[0m\u001b[37m\u001b[0m \u001b[1m51s\u001b[0m 33ms/step - accuracy: 0.4763 - loss: 1.4869\n",
      "Epoch 5/5\n",
      "\u001b[1m1563/1563\u001b[0m \u001b[32m━━━━━━━━━━━━━━━━━━━━\u001b[0m\u001b[37m\u001b[0m \u001b[1m54s\u001b[0m 34ms/step - accuracy: 0.4893 - loss: 1.4472\n"
     ]
    },
    {
     "data": {
      "text/plain": [
       "<keras.src.callbacks.history.History at 0x200236de7d0>"
      ]
     },
     "execution_count": 14,
     "metadata": {},
     "output_type": "execute_result"
    }
   ],
   "source": [
    "ann = models.Sequential([\n",
    "    layers.Flatten(input_shape=(32,32,3)),\n",
    "    layers.Dense(3000,activation='relu'),\n",
    "    layers.Dense(1000,activation='relu'),\n",
    "    layers.Dense(10,activation='softmax'),\n",
    "    \n",
    "])\n",
    "ann.compile(optimizer='SGD',\n",
    "            loss='sparse_categorical_crossentropy',\n",
    "            metrics=['accuracy'])\n",
    "\n",
    "ann.fit(x_train,y_train,epochs=5)"
   ]
  },
  {
   "cell_type": "markdown",
   "id": "6ee6a593-5294-46a4-8e7f-31871beb931e",
   "metadata": {},
   "source": [
    "<strong>You can see that at the end of 5 epochs the accuracy is 49%<strong>"
   ]
  },
  {
   "cell_type": "code",
   "execution_count": 15,
   "id": "54993365-30bc-498e-a2a6-373b587cb79e",
   "metadata": {},
   "outputs": [
    {
     "name": "stdout",
     "output_type": "stream",
     "text": [
      "\u001b[1m313/313\u001b[0m \u001b[32m━━━━━━━━━━━━━━━━━━━━\u001b[0m\u001b[37m\u001b[0m \u001b[1m2s\u001b[0m 7ms/step\n",
      "Classification Report: \n",
      "               precision    recall  f1-score   support\n",
      "\n",
      "           0       0.58      0.50      0.53      1000\n",
      "           1       0.42      0.80      0.55      1000\n",
      "           2       0.33      0.47      0.39      1000\n",
      "           3       0.32      0.47      0.38      1000\n",
      "           4       0.49      0.29      0.37      1000\n",
      "           5       0.52      0.16      0.25      1000\n",
      "           6       0.57      0.42      0.49      1000\n",
      "           7       0.65      0.47      0.54      1000\n",
      "           8       0.54      0.67      0.60      1000\n",
      "           9       0.57      0.39      0.46      1000\n",
      "\n",
      "    accuracy                           0.47     10000\n",
      "   macro avg       0.50      0.47      0.46     10000\n",
      "weighted avg       0.50      0.47      0.46     10000\n",
      "\n"
     ]
    }
   ],
   "source": [
    "from sklearn.metrics import confusion_matrix,classification_report\n",
    "import numpy as np\n",
    "y_pred = ann.predict(x_test)\n",
    "y_pred_classes = [np.argmax(element) for element in y_pred]\n",
    "print(\"Classification Report: \\n\",classification_report(y_test,y_pred_classes))"
   ]
  },
  {
   "cell_type": "markdown",
   "id": "78bd0899-55d8-4594-964e-c0b81f4cd652",
   "metadata": {},
   "source": [
    "<h3 style='color:pink'>Build simple convolutional neural network for image classificatio</h3>"
   ]
  },
  {
   "cell_type": "code",
   "execution_count": 16,
   "id": "d0980131-432f-44b4-9fbf-0feb60e401f3",
   "metadata": {},
   "outputs": [
    {
     "name": "stderr",
     "output_type": "stream",
     "text": [
      "C:\\Users\\krish\\OneDrive\\Desktop\\Python\\newenv\\lib\\site-packages\\keras\\src\\layers\\convolutional\\base_conv.py:107: UserWarning: Do not pass an `input_shape`/`input_dim` argument to a layer. When using Sequential models, prefer using an `Input(shape)` object as the first layer in the model instead.\n",
      "  super().__init__(activity_regularizer=activity_regularizer, **kwargs)\n"
     ]
    }
   ],
   "source": [
    "cnn = models.Sequential([\n",
    "    layers.Conv2D(filters=32,kernel_size=(3,3),activation='relu',input_shape=(32,32,3)),\n",
    "    layers.MaxPooling2D((2,2)),\n",
    "    layers.Conv2D(filters=64,kernel_size=(3,3),activation='relu'),\n",
    "    layers.MaxPooling2D((2,2)),\n",
    "    layers.Flatten(),\n",
    "    layers.Dense(64,activation='relu'),\n",
    "    layers.Dense(10,activation='softmax'),\n",
    "    \n",
    "])"
   ]
  },
  {
   "cell_type": "markdown",
   "id": "c2b214f6-8975-4194-ba8f-9af8b3b28745",
   "metadata": {},
   "source": [
    "Purpose: This CNN is designed for image classification tasks, where the goal is to classify input images into one of the 10 classes. The convolutional and pooling layers extract features from the images, while the dense layers process these features to make the final classification decision."
   ]
  },
  {
   "cell_type": "code",
   "execution_count": 17,
   "id": "887c1819-7de4-4f0d-b72e-aef615ecf1e8",
   "metadata": {},
   "outputs": [],
   "source": [
    "cnn.compile(optimizer='adam',\n",
    "            loss='sparse_categorical_crossentropy',\n",
    "            metrics=['accuracy'])"
   ]
  },
  {
   "cell_type": "markdown",
   "id": "cec65ea0-629e-4769-8a1e-09f6142fd03b",
   "metadata": {},
   "source": [
    "<strong>Loss Function in Neural Networks</strong>\n",
    "The loss function is a critical component in training neural networks. It measures how well the model's predictions match the actual target values. The goal during training is to minimize this loss, which means making the model's predictions as accurate as possible."
   ]
  },
  {
   "cell_type": "markdown",
   "id": "a1b4cd1a-8c8d-450c-a7f3-6307a8a661ff",
   "metadata": {},
   "source": [
    "<strong>Epochs</strong> epochs are crucial for iteratively improving the model's performance by repeatedly updating its parameters based on the training data."
   ]
  },
  {
   "cell_type": "code",
   "execution_count": 18,
   "id": "5c667e65-a0c7-48df-93b9-20ad30a7454a",
   "metadata": {},
   "outputs": [
    {
     "name": "stdout",
     "output_type": "stream",
     "text": [
      "Epoch 1/10\n",
      "\u001b[1m1563/1563\u001b[0m \u001b[32m━━━━━━━━━━━━━━━━━━━━\u001b[0m\u001b[37m\u001b[0m \u001b[1m10s\u001b[0m 6ms/step - accuracy: 0.3825 - loss: 1.6884\n",
      "Epoch 2/10\n",
      "\u001b[1m1563/1563\u001b[0m \u001b[32m━━━━━━━━━━━━━━━━━━━━\u001b[0m\u001b[37m\u001b[0m \u001b[1m9s\u001b[0m 5ms/step - accuracy: 0.6005 - loss: 1.1327\n",
      "Epoch 3/10\n",
      "\u001b[1m1563/1563\u001b[0m \u001b[32m━━━━━━━━━━━━━━━━━━━━\u001b[0m\u001b[37m\u001b[0m \u001b[1m9s\u001b[0m 5ms/step - accuracy: 0.6496 - loss: 1.0017\n",
      "Epoch 4/10\n",
      "\u001b[1m1563/1563\u001b[0m \u001b[32m━━━━━━━━━━━━━━━━━━━━\u001b[0m\u001b[37m\u001b[0m \u001b[1m9s\u001b[0m 6ms/step - accuracy: 0.6857 - loss: 0.9040\n",
      "Epoch 5/10\n",
      "\u001b[1m1563/1563\u001b[0m \u001b[32m━━━━━━━━━━━━━━━━━━━━\u001b[0m\u001b[37m\u001b[0m \u001b[1m9s\u001b[0m 6ms/step - accuracy: 0.7065 - loss: 0.8343\n",
      "Epoch 6/10\n",
      "\u001b[1m1563/1563\u001b[0m \u001b[32m━━━━━━━━━━━━━━━━━━━━\u001b[0m\u001b[37m\u001b[0m \u001b[1m10s\u001b[0m 6ms/step - accuracy: 0.7323 - loss: 0.7723\n",
      "Epoch 7/10\n",
      "\u001b[1m1563/1563\u001b[0m \u001b[32m━━━━━━━━━━━━━━━━━━━━\u001b[0m\u001b[37m\u001b[0m \u001b[1m9s\u001b[0m 6ms/step - accuracy: 0.7489 - loss: 0.7235\n",
      "Epoch 8/10\n",
      "\u001b[1m1563/1563\u001b[0m \u001b[32m━━━━━━━━━━━━━━━━━━━━\u001b[0m\u001b[37m\u001b[0m \u001b[1m9s\u001b[0m 6ms/step - accuracy: 0.7642 - loss: 0.6784\n",
      "Epoch 9/10\n",
      "\u001b[1m1563/1563\u001b[0m \u001b[32m━━━━━━━━━━━━━━━━━━━━\u001b[0m\u001b[37m\u001b[0m \u001b[1m9s\u001b[0m 5ms/step - accuracy: 0.7774 - loss: 0.6377\n",
      "Epoch 10/10\n",
      "\u001b[1m1563/1563\u001b[0m \u001b[32m━━━━━━━━━━━━━━━━━━━━\u001b[0m\u001b[37m\u001b[0m \u001b[1m9s\u001b[0m 6ms/step - accuracy: 0.7928 - loss: 0.5907\n"
     ]
    },
    {
     "data": {
      "text/plain": [
       "<keras.src.callbacks.history.History at 0x200440adc90>"
      ]
     },
     "execution_count": 18,
     "metadata": {},
     "output_type": "execute_result"
    }
   ],
   "source": [
    "cnn.fit(x_train,y_train,epochs=10)"
   ]
  },
  {
   "cell_type": "markdown",
   "id": "0718a572-c4df-4e46-a63b-745b99bf939f",
   "metadata": {},
   "source": [
    "With CNN at the end of 5 epochs,accuracy was at around 70% which is a significant improvement over ANN. CNN's are best for image classification and gives superb accuracy.\n",
    "also computation is much less compared to simple ANN as maxpooling reduces the image dimensions while still preserving the features"
   ]
  },
  {
   "cell_type": "code",
   "execution_count": 19,
   "id": "610155df-93da-470d-951a-db827fda749c",
   "metadata": {},
   "outputs": [
    {
     "name": "stdout",
     "output_type": "stream",
     "text": [
      "\u001b[1m313/313\u001b[0m \u001b[32m━━━━━━━━━━━━━━━━━━━━\u001b[0m\u001b[37m\u001b[0m \u001b[1m1s\u001b[0m 2ms/step - accuracy: 0.6902 - loss: 0.9692\n"
     ]
    },
    {
     "data": {
      "text/plain": [
       "[0.9802398681640625, 0.683899998664856]"
      ]
     },
     "execution_count": 19,
     "metadata": {},
     "output_type": "execute_result"
    }
   ],
   "source": [
    "cnn.evaluate(x_test,y_test)"
   ]
  },
  {
   "cell_type": "code",
   "execution_count": 20,
   "id": "b988fcc0-d1e7-4f9c-be1b-de6fb73b896b",
   "metadata": {},
   "outputs": [
    {
     "name": "stdout",
     "output_type": "stream",
     "text": [
      "\u001b[1m313/313\u001b[0m \u001b[32m━━━━━━━━━━━━━━━━━━━━\u001b[0m\u001b[37m\u001b[0m \u001b[1m1s\u001b[0m 2ms/step\n"
     ]
    }
   ],
   "source": [
    "y_pred = cnn.predict(x_test)"
   ]
  },
  {
   "cell_type": "code",
   "execution_count": 21,
   "id": "fdf08692-210d-4a08-b50e-b9f5a98e0e39",
   "metadata": {},
   "outputs": [
    {
     "data": {
      "text/plain": [
       "[np.int64(8), np.int64(8), np.int64(8), np.int64(0), np.int64(6)]"
      ]
     },
     "execution_count": 21,
     "metadata": {},
     "output_type": "execute_result"
    }
   ],
   "source": [
    "y_classes = [np.argmax(element) for element in y_pred]\n",
    "y_classes[:5]"
   ]
  },
  {
   "cell_type": "code",
   "execution_count": 22,
   "id": "b1093952-e823-4098-afa5-c14de057b298",
   "metadata": {},
   "outputs": [
    {
     "data": {
      "text/plain": [
       "array([3, 8, 8, 0, 6], dtype=uint8)"
      ]
     },
     "execution_count": 22,
     "metadata": {},
     "output_type": "execute_result"
    }
   ],
   "source": [
    "y_test[:5]"
   ]
  },
  {
   "cell_type": "code",
   "execution_count": 23,
   "id": "5ef3da7a-3e90-473a-9ecd-9c91dc485e0b",
   "metadata": {},
   "outputs": [
    {
     "data": {
      "image/png": "[encoded data removed]",
      "text/plain": [
       "<Figure size 1500x200 with 1 Axes>"
      ]
     },
     "metadata": {},
     "output_type": "display_data"
    }
   ],
   "source": [
    "plot_sample(x_test,y_test,6)"
   ]
  },
  {
   "cell_type": "code",
   "execution_count": 24,
   "id": "300dbf26-008d-4d00-a4e2-5cd83457b608",
   "metadata": {},
   "outputs": [
    {
     "data": {
      "text/plain": [
       "'automobile'"
      ]
     },
     "execution_count": 24,
     "metadata": {},
     "output_type": "execute_result"
    }
   ],
   "source": [
    "classes[y_classes[6]]"
   ]
  },
  {
   "cell_type": "code",
   "execution_count": 25,
   "id": "58800fd2-160e-448b-b680-300d97d30156",
   "metadata": {},
   "outputs": [
    {
     "data": {
      "image/png": "[encoded data removed]",
      "text/plain": [
       "<Figure size 1500x200 with 1 Axes>"
      ]
     },
     "metadata": {},
     "output_type": "display_data"
    }
   ],
   "source": [
    "plot_sample(x_test,y_test,9)"
   ]
  },
  {
   "cell_type": "code",
   "execution_count": 26,
   "id": "81e98b5d-7770-450e-b701-522e88711084",
   "metadata": {},
   "outputs": [
    {
     "data": {
      "text/plain": [
       "'automobile'"
      ]
     },
     "execution_count": 26,
     "metadata": {},
     "output_type": "execute_result"
    }
   ],
   "source": [
    "classes[y_classes[9]]"
   ]
  },
  {
   "cell_type": "code",
   "execution_count": 27,
   "id": "60b1d614-d334-4e65-94f6-6258cf750f44",
   "metadata": {},
   "outputs": [
    {
     "data": {
      "image/png": "[encoded data removed]",
      "text/plain": [
       "<Figure size 1500x200 with 1 Axes>"
      ]
     },
     "metadata": {},
     "output_type": "display_data"
    }
   ],
   "source": [
    "plot_sample(x_test,y_test,3)"
   ]
  },
  {
   "cell_type": "code",
   "execution_count": 28,
   "id": "7857fc5a-7a53-41fa-8f20-ae012835a904",
   "metadata": {},
   "outputs": [
    {
     "data": {
      "text/plain": [
       "'airplane'"
      ]
     },
     "execution_count": 28,
     "metadata": {},
     "output_type": "execute_result"
    }
   ],
   "source": [
    "classes[y_classes[3]]"
   ]
  },
  {
   "cell_type": "code",
   "execution_count": 29,
   "id": "547a67ba-9691-4172-83c9-5242ba17a7f0",
   "metadata": {},
   "outputs": [
    {
     "data": {
      "image/png": "[encoded data removed]",
      "text/plain": [
       "<Figure size 1500x200 with 1 Axes>"
      ]
     },
     "metadata": {},
     "output_type": "display_data"
    }
   ],
   "source": [
    "plot_sample(x_test,y_test,2)"
   ]
  },
  {
   "cell_type": "code",
   "execution_count": 30,
   "id": "ee56561e-a22f-4a45-a0e6-5e75dec28d97",
   "metadata": {},
   "outputs": [
    {
     "data": {
      "text/plain": [
       "'ship'"
      ]
     },
     "execution_count": 30,
     "metadata": {},
     "output_type": "execute_result"
    }
   ],
   "source": [
    "classes[y_classes[2]]"
   ]
  },
  {
   "cell_type": "code",
   "execution_count": null,
   "id": "a0d0b735-81fc-4afa-8574-66dab6040160",
   "metadata": {},
   "outputs": [],
   "source": []
  }
 ],
 "metadata": {
  "kernelspec": {
   "display_name": "Python (newenv)",
   "language": "python",
   "name": "newenv"
  },
  "language_info": {
   "codemirror_mode": {
    "name": "ipython",
    "version": 3
   },
   "file_extension": ".py",
   "mimetype": "text/x-python",
   "name": "python",
   "nbconvert_exporter": "python",
   "pygments_lexer": "ipython3",
   "version": "3.10.8"
  }
 },
 "nbformat": 4,
 "nbformat_minor": 5
}
